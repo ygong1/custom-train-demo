{
 "cells": [
  {
   "cell_type": "markdown",
   "metadata": {},
   "source": [
    "Hack Environment Set Up\n",
    "========================\n",
    "Install the necessary client libraries in order to demo running arbitrary code on AI compute platform. Those steps are not needed once productionized. "
   ]
  },
  {
   "cell_type": "code",
   "execution_count": null,
   "metadata": {},
   "outputs": [],
   "source": [
    "%sh git clone -b prototype \"https://github.com/ygong1/llm-foundry.git\" ~/llm-foundry"
   ]
  },
  {
   "cell_type": "code",
   "execution_count": null,
   "metadata": {},
   "outputs": [],
   "source": [
    "%sh cd ~/llm-foundry && pip install ."
   ]
  },
  {
   "cell_type": "code",
   "execution_count": null,
   "metadata": {},
   "outputs": [],
   "source": [
    "dbutils.library.restartPython()"
   ]
  },
  {
   "cell_type": "markdown",
   "metadata": {
    "application/vnd.databricks.v1+cell": {
     "cellMetadata": {
      "byteLimit": 2048000,
      "rowLimit": 10000
     },
     "inputWidgets": {},
     "nuid": "a1723072-6d7e-4a6c-8110-4c0095ca0639",
     "showTitle": false,
     "title": ""
    }
   },
   "source": [
    "Submit Run Remotely On a Cluster\n",
    "-------------------------------\n",
    "\n",
    "Wrap up the config and submit the remote run.\n"
   ]
  },
  {
   "cell_type": "code",
   "execution_count": 4,
   "metadata": {
    "application/vnd.databricks.v1+cell": {
     "cellMetadata": {
      "byteLimit": 2048000,
      "rowLimit": 10000
     },
     "inputWidgets": {},
     "nuid": "9468b07e-78dd-4b9a-ad4f-b527cc46d13c",
     "showTitle": true,
     "title": "Mosaic Experiment Submission Tool"
    }
   },
   "outputs": [
    {
     "data": {
      "text/html": [
       "<table border=\"1\" class=\"dataframe\">\n",
       "  <thead>\n",
       "    <tr style=\"text-align: right;\">\n",
       "      <th></th>\n",
       "      <th>name</th>\n",
       "      <th>ID</th>\n",
       "      <th>User</th>\n",
       "      <th>Cluster</th>\n",
       "      <th>Nodes</th>\n",
       "      <th>Instance</th>\n",
       "      <th>Resumption</th>\n",
       "      <th>Status</th>\n",
       "      <th>Start Time</th>\n",
       "      <th>End Time</th>\n",
       "      <th>Experiment Run</th>\n",
       "    </tr>\n",
       "  </thead>\n",
       "  <tbody>\n",
       "    <tr>\n",
       "      <th>0</th>\n",
       "      <td>custom-train-demo-hS6oeQ</td>\n",
       "      <td>831de17d-1ef6-4ff1-a74b-240b544d5d41</td>\n",
       "      <td>yu.gong@databricks.com</td>\n",
       "      <td>r1z1</td>\n",
       "      <td>1</td>\n",
       "      <td>8x a100_80gb</td>\n",
       "      <td>0</td>\n",
       "      <td>Completed</td>\n",
       "      <td>2024-03-28 11:27 PM</td>\n",
       "      <td>2024-03-28 11:34 PM</td>\n",
       "      <td></td>\n",
       "    </tr>\n",
       "  </tbody>\n",
       "</table>"
      ],
      "text/plain": [
       "<IPython.core.display.HTML object>"
      ]
     },
     "metadata": {},
     "output_type": "display_data"
    }
   ],
   "source": [
    "from ygong.mosaic import ScalingConfig\n",
    "from ygong.mosaic import submit\n",
    "from ygong.mosaic import TrainingConfig\n",
    "from ygong.mosaic.wsfs import WSFSIntegration\n",
    "\n",
    "# TODO(ygong): add a spark example mention it is reading from UC table and dump to UC volume\n",
    "parameters = { \n",
    "     \"name\": \"custom-train-demo\", \n",
    "     \"seed\": 42, \n",
    "     \"device_train_microbatch_size\": 8,\n",
    "     \"loggers\": {\n",
    "        \"mlflow\": {\n",
    "            \"tracking_uri\": \"databricks\",\n",
    "            \"synchronous\": False,\n",
    "            \"log_system_metrics\": True\n",
    "        }\n",
    "     }\n",
    "}\n",
    "custom_code_repo_dir = \"/Workspace/Users/yu.gong@databricks.com/.ide/custom-train-demo-4bf5c137\"\n",
    "# TODO(shitao): add a prioirty field with good default. We can show it in demo\n",
    "config = TrainingConfig(\n",
    "    name=\"custom-train-demo\", \n",
    "    entry_point=f'{custom_code_repo_dir}/src/train.py', \n",
    "    parameters=parameters)\n",
    "\n",
    "scalingConfig = ScalingConfig(gpusNum=8, poolName=\"r1z1\")\n",
    "\n",
    "# DEMO NOTE:\n",
    "# This is temporary hack to mock the behavior of mounting workspace filesystem to the remote training\n",
    "# nodes. Once the workspace filesystem fusion is integrated with netphos and dblet. We will get this for free.\n",
    "wsfs = WSFSIntegration(wsfs_path=custom_code_repo_dir)\n",
    "\n",
    "run = submit(config, scalingConfig, wait_job_to_finish=True, debug=True, wsfs=wsfs) \n",
    "\n",
    "# TODO(ygong): where is the code for mlflow (in launcher or args??)"
   ]
  },
  {
   "cell_type": "code",
   "execution_count": null,
   "metadata": {
    "application/vnd.databricks.v1+cell": {
     "cellMetadata": {
      "byteLimit": 2048000,
      "rowLimit": 10000
     },
     "inputWidgets": {},
     "nuid": "118a3a59-d2f9-4318-9b92-b358f205197b",
     "showTitle": true,
     "title": "Job Completion Status Checker"
    }
   },
   "outputs": [
    {
     "name": "stdout",
     "output_type": "stream",
     "text": [
      "Succeeded!\n"
     ]
    }
   ],
   "source": [
    "from mcli import RunStatus\n",
    "if run.status == RunStatus.COMPLETED:\n",
    "  print(\"Succeeded!\")\n",
    "else:\n",
    "  raise Exception(\"Pretaining job faile\")\n",
    "\n",
    "\n"
   ]
  }
 ],
 "metadata": {
  "application/vnd.databricks.v1+notebook": {
   "dashboards": [],
   "language": "python",
   "notebookMetadata": {
    "mostRecentlyExecutedCommandWithImplicitDF": {
     "commandId": 261863323683854,
     "dataframes": [
      "_sqldf"
     ]
    },
    "pythonIndentUnit": 2
   },
   "notebookName": "Prototype - Custom Code",
   "widgets": {}
  },
  "kernelspec": {
   "display_name": "mosaic2",
   "language": "python",
   "name": "python3"
  },
  "language_info": {
   "codemirror_mode": {
    "name": "ipython",
    "version": 3
   },
   "file_extension": ".py",
   "mimetype": "text/x-python",
   "name": "python",
   "nbconvert_exporter": "python",
   "pygments_lexer": "ipython3",
   "version": "3.10.12"
  }
 },
 "nbformat": 4,
 "nbformat_minor": 0
}
