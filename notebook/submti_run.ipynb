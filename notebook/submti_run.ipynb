{
 "cells": [
  {
   "cell_type": "markdown",
   "metadata": {},
   "source": [
    "Set Up the Credentials\n",
    "-----------------------\n",
    "Set the up the credentials to submit the runs to `r1z1` cluster\n",
    "\n",
    "This step is not needed in Databricks Notebook"
   ]
  },
  {
   "cell_type": "code",
   "execution_count": 2,
   "metadata": {},
   "outputs": [],
   "source": [
    "# The CREDENTIALS has been preset with `conda env config vars set CREDENTIALS=\"xxs\"`\n",
    "\n",
    "# To generate CREDENTIALS for your local environment, you can use the following command:\n",
    "# data = {\n",
    "#     \"workspace_url\": \"https://dbc-04ac0685-8857.staging.cloud.databricks.com/\",\n",
    "#     \"token\": \"dapi338xx\", \n",
    "#     \"mosaic_token\": \"Y4x7xx\",\n",
    "# }\n",
    "# data = json.dumps(data)\n",
    "# credentials = base64.b64encode(data.encode('utf-8')).decode('utf-8')\n",
    "\n",
    "import os\n",
    "from ygong.mosaic import submit, _set_up_environment\n",
    "\n",
    "credentials = os.environ.get(\"CREDENTIALS\")\n",
    "_set_up_environment(credentials)"
   ]
  },
  {
   "cell_type": "markdown",
   "metadata": {},
   "source": [
    "Local Testing \n",
    "------------------\n",
    "Run the trainer.fit locally"
   ]
  },
  {
   "cell_type": "code",
   "execution_count": 18,
   "metadata": {},
   "outputs": [
    {
     "data": {
      "text/plain": [
       "<module 'train' from '/Users/yu.gong/workspace/mosaic/custom-train-demo/src/train.py'>"
      ]
     },
     "execution_count": 18,
     "metadata": {},
     "output_type": "execute_result"
    }
   ],
   "source": [
    "import sys\n",
    "import importlib\n",
    "sys.path.append(os.path.abspath('../src'))\n",
    "\n",
    "# always reload for local updates to take effect\n",
    "import train\n",
    "importlib.reload(train)\n"
   ]
  },
  {
   "cell_type": "code",
   "execution_count": 19,
   "metadata": {},
   "outputs": [
    {
     "name": "stdout",
     "output_type": "stream",
     "text": [
      "Files already downloaded and verified\n",
      "Files already downloaded and verified\n"
     ]
    },
    {
     "name": "stderr",
     "output_type": "stream",
     "text": [
      "You are using a high value of `weight_decay=0.002` for the `DecoupledSGDW` optimizer. Are you sure you want to do this? Your model's weights will be multiplied by 0.998 on every step!\n",
      "******************************\n",
      "Config:\n",
      "composer_commit_hash: None\n",
      "composer_version: 0.20.1\n",
      "node_name: unknown because NODENAME environment variable not set\n",
      "num_cpus_per_node: 1\n",
      "num_nodes: 1\n",
      "rank_zero_seed: 3869696901\n",
      "\n",
      "******************************\n"
     ]
    },
    {
     "data": {
      "application/vnd.jupyter.widget-view+json": {
       "model_id": "a17e88a9208047ed94668751037bc36a",
       "version_major": 2,
       "version_minor": 0
      },
      "text/plain": [
       "train          Epoch   0:    0%|| 0/196 [00:00<?, ?ba/s]         "
      ]
     },
     "metadata": {},
     "output_type": "display_data"
    }
   ],
   "source": [
    "\n",
    "config = train.MyConfig(global_train_batch_size=1024)\n",
    "\n",
    "train.main(config)"
   ]
  },
  {
   "cell_type": "markdown",
   "metadata": {},
   "source": [
    "Submit Run \n",
    "----------\n",
    "\n",
    "run the local train.py\n",
    "\n"
   ]
  },
  {
   "cell_type": "code",
   "execution_count": null,
   "metadata": {},
   "outputs": [],
   "source": [
    "from mcli import RunConfig\n",
    "\n",
    "config = RunConfig(x)\n",
    "\n",
    "submit(\"src/train.py\", config, ScalingConfig(gpusNum=8, gpuType=\"a100_80gb\", poolName=\"r1z1\"), debug=True)"
   ]
  }
 ],
 "metadata": {
  "kernelspec": {
   "display_name": "mosaic2",
   "language": "python",
   "name": "python3"
  },
  "language_info": {
   "codemirror_mode": {
    "name": "ipython",
    "version": 3
   },
   "file_extension": ".py",
   "mimetype": "text/x-python",
   "name": "python",
   "nbconvert_exporter": "python",
   "pygments_lexer": "ipython3",
   "version": "3.10.12"
  }
 },
 "nbformat": 4,
 "nbformat_minor": 2
}
